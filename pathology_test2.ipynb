{
 "cells": [
  {
   "cell_type": "code",
   "execution_count": null,
   "id": "15a49a41",
   "metadata": {},
   "outputs": [],
   "source": [
    "import openslide\n",
    "import matplotlib.pyplot as plt\n",
    "import numpy as np"
   ]
  },
  {
   "cell_type": "code",
   "execution_count": null,
   "id": "c9bc5617",
   "metadata": {},
   "outputs": [],
   "source": [
    "img = openslide.OpenSlide(filename = \"S17_20095_L3.svs\")"
   ]
  },
  {
   "cell_type": "code",
   "execution_count": null,
   "id": "8c4cfb45",
   "metadata": {},
   "outputs": [],
   "source": [
    "size0, size1, size2 = img.level_dimensions"
   ]
  },
  {
   "cell_type": "code",
   "execution_count": null,
   "id": "262e1d60",
   "metadata": {},
   "outputs": [],
   "source": [
    "img.level_dimensions"
   ]
  },
  {
   "cell_type": "code",
   "execution_count": null,
   "id": "d3ce8d50",
   "metadata": {},
   "outputs": [],
   "source": [
    "img.level_downsamples[2]"
   ]
  },
  {
   "cell_type": "markdown",
   "id": "a4797656",
   "metadata": {},
   "source": [
    "## svs 파일 시각화"
   ]
  },
  {
   "cell_type": "markdown",
   "id": "ac26abc9",
   "metadata": {},
   "source": [
    "#### (1) size1 => (18148, 14719) 차원 vs size2 => (4537, 3679) 차원 "
   ]
  },
  {
   "cell_type": "code",
   "execution_count": null,
   "id": "6c1fbdce",
   "metadata": {},
   "outputs": [],
   "source": [
    "level2 = img.read_region((0,0),1, size1) # 왼쪽 상단이 (0,0) , Zoom : 0>1>2 , size2 설정(4537, 3679)\n",
    "level2"
   ]
  },
  {
   "cell_type": "markdown",
   "id": "695fa8e8",
   "metadata": {},
   "source": [
    "## svs 파일 tiling"
   ]
  },
  {
   "cell_type": "code",
   "execution_count": null,
   "id": "db7a84e6",
   "metadata": {},
   "outputs": [],
   "source": [
    "from openslide.deepzoom import DeepZoomGenerator\n",
    "\n",
    "slide = DeepZoomGenerator(img, tile_size = 20000, overlap = 1000)\n",
    "print(len(slide.level_dimensions))"
   ]
  },
  {
   "cell_type": "code",
   "execution_count": null,
   "id": "8c2d0fd3",
   "metadata": {},
   "outputs": [],
   "source": [
    "tile_img1 = slide.get_tile(15, (0,0))\n",
    "plt.figure(figsize=(15,15))\n",
    "plt.imshow(tile_img1) \n",
    "plt.show()"
   ]
  }
 ],
 "metadata": {
  "kernelspec": {
   "display_name": "Python 3 (ipykernel)",
   "language": "python",
   "name": "python3"
  },
  "language_info": {
   "codemirror_mode": {
    "name": "ipython",
    "version": 3
   },
   "file_extension": ".py",
   "mimetype": "text/x-python",
   "name": "python",
   "nbconvert_exporter": "python",
   "pygments_lexer": "ipython3",
   "version": "3.7.11"
  }
 },
 "nbformat": 4,
 "nbformat_minor": 5
}
